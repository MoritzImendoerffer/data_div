{
 "cells": [
  {
   "cell_type": "code",
   "execution_count": 2,
   "metadata": {},
   "outputs": [],
   "source": [
    "import numpy as np\n",
    "import math\n",
    "import seaborn as sns\n",
    "from matplotlib import pyplot as plt"
   ]
  },
  {
   "attachments": {},
   "cell_type": "markdown",
   "metadata": {},
   "source": [
    "\n",
    "The [heatindex](https://de.wikipedia.org/wiki/Hitzeindex) describes the quantitative relationship between perceived temperature and humidity. According to wikipedia, it is applicable for temperatures above 26.7°C and 40 % relative humidity.\n",
    "\n",
    "$$ \\vartheta _{\\mathrm {HI} }=c_{1}+c_{2}\\vartheta +c_{3}\\varphi +c_{4}\\vartheta \\varphi +c_{5}\\vartheta ^{2}+c_{6}\\varphi ^{2}+c_{7}\\vartheta ^{2}\\varphi +c_{8}\\vartheta \\varphi ^{2}+c_{9}\\vartheta ^{2}\\varphi ^{2}$$\n",
    "\n",
    "|Parameter |\tϑ in °C |\tϑ in °F |\n",
    "|----------|------------|-----------|\n",
    "c1 | \t−8,784695 |\t−42,379 |\n",
    "c2 |\t1,61139411 |\t2,04901523 |\n",
    "c3 |\t2,338549 |\t10,1433127 |\n",
    "c4 |\t−0,14611605 |\t−0,22475541 |\n",
    "c5 |\t−1,2308094 · 10−2 |\t−6,83783 · 10−3 |\n",
    "c6 |\t−1,6424828 · 10−2 |\t−5,481717 · 10−2 |\n",
    "c7 |\t2,211732 · 10−3 |\t1,22874 · 10−3 |\n",
    "c8 |\t7,2546 · 10−4 |\t8,5282 · 10−4 |\n",
    "c9 |\t−3,582 · 10−6 |\t−1,99 · 10−6 |\n",
    "\n",
    "[Relative humidity](https://de.wikipedia.org/wiki/Luftfeuchtigkeit#Relative_Luftfeuchtigkeit) (German version of wikipedia is surprisingly better for this article) can be calculated based on the air pressure and the [saturation pressure of water in air](https://en.wikipedia.org/wiki/Vapour_pressure_of_water)"
   ]
  },
  {
   "attachments": {},
   "cell_type": "markdown",
   "metadata": {},
   "source": [
    "Another expression for perceived temperature is the [Humidex](https://en.wikipedia.org/wiki/Humidex) given by the formula:\n",
    "\n",
    "$$\n",
    "H = T_{air} + 0.5555 * (6.11^{5417.753 * (1/273.16 - 1/(273.15+T_{dew}))} - 10)\n",
    "$$\n",
    "\n",
    "$H$ ... Humidex \\\n",
    "$T_{air}$ ... Temperature of the air \\\n",
    "$T_{dew}$ ... Dew point of the air"
   ]
  },
  {
   "attachments": {},
   "cell_type": "markdown",
   "metadata": {},
   "source": [
    "The dew point can be calculated based on the Magnus Formula using the relative humidity of the air. For example formula 10 in the german wiki article about the [dew point](https://de.wikipedia.org/wiki/Taupunkt). Valid between -10 and 60°C.\n",
    "\n",
    "$$\n",
    "\\tau(\\varphi, \\vartheta) = K_3 * \\frac{\\frac{K_2*\\vartheta}{K_3 + \\vartheta} + ln(\\varphi)}{\\frac{K_2*K_3}{K_3 + \\vartheta}}\n",
    "$$"
   ]
  },
  {
   "attachments": {},
   "cell_type": "markdown",
   "metadata": {},
   "source": [
    "https://labor.bht-berlin.de/fileadmin/labor/tvt/Umdrucke/2014_Trocknung-Schlempe.pdf"
   ]
  },
  {
   "cell_type": "code",
   "execution_count": 53,
   "metadata": {},
   "outputs": [],
   "source": [
    "class constants:\n",
    "    gas_constant_spec =  dict(water = 461.51,\n",
    "                              air_dry = 287.058)  #  (J/(kg*K)\n",
    "    gas_constant_general = 8314  # J/(kg*K)\n",
    "    \n",
    "    \n",
    "\n",
    "def calc_dewpoint(humidity_rel: float, temp: float) -> float:\n",
    "    \"\"\"Calculates the dew point (taupunkt) of water in air based on the magnus formula\n",
    "\n",
    "    Based on: https://de.wikipedia.org/wiki/Taupunkt ??\n",
    "\n",
    "    Parameters\n",
    "    ------\n",
    "    humidity_rel: float\n",
    "        relative humidity between 0 and 1\n",
    "    temp: float\n",
    "        temperature in °C\n",
    "    \n",
    "    Returns\n",
    "    ------\n",
    "    float\n",
    "        dew point in °C\n",
    "    \"\"\"\n",
    "    k3 = 243.12 # °C\n",
    "    k2 = 17.62  # °C\n",
    "    return k3 * (k2*temp/(k3+temp) + np.log(humidity_rel)) / (k2*k3 / (k3 + temp) - np.log(humidity_rel))\n",
    "\n",
    "def calc_satpressure(temp: float) -> float:\n",
    "    \"\"\"Calcuates the saturation pressure of water in air based on the magnus formula\n",
    "    \n",
    "    https://www.eas.ualberta.ca/jdwilson/EAS372_13/Vomel_CIRES_satvpformulae.html\n",
    "\n",
    "    Parameters:\n",
    "    -----\n",
    "    temp: float\n",
    "        temperature in °C\n",
    "\n",
    "    Returns:\n",
    "    -----\n",
    "        saturation pressure of water in Pa\n",
    "    \"\"\"\n",
    "    k3 = 243.5 # °C\n",
    "    k2 = 17.67  # °C\n",
    "    return 610.78*np.exp(k2*temp / (k3 + temp))\n",
    "\n",
    "def calc_sathumidity(temp: float, pressure_air: float) -> float:\n",
    "    \"\"\"Calculates the amount of water in saturated air as kg_water / kg_air_wet\n",
    "\n",
    "    Parameters\n",
    "    -----    \n",
    "    temp: float\n",
    "        temperature in °C\n",
    "    \n",
    "    pressure_air: float\n",
    "        air pressure in Pa\n",
    "\n",
    "    Returns\n",
    "    ------\n",
    "    float\n",
    "        partial pressure of water in Pa\n",
    "    \"\"\"\n",
    "    return 0.622 * calc_satpressure(temp) / (pressure_air - 0.378 * calc_satpressure(temp))\n",
    "\n",
    "def calc_ppartial(humidity_rel:float, temp:float)->float:\n",
    "    \"\"\"Returns the partial pressure of water in Pa\n",
    "\n",
    "    https://schweizer-fn.de/lueftung/feuchte/feuchte.php\n",
    "\n",
    "    Parameters\n",
    "    -----\n",
    "    humidity_rel: float\n",
    "        relative humidity between 0 and 1\n",
    "    \n",
    "    temp: float\n",
    "        temperature in °C\n",
    "    \n",
    "    Returns\n",
    "    ------\n",
    "    float\n",
    "        partial pressure of water in Pa\n",
    "    \"\"\"\n",
    "    return humidity_rel * calc_satpressure(temp)\n",
    "\n",
    "\n",
    "def calc_hum_spec(humidity_rel: float, temp: float, pressure_air: float) -> float:\n",
    "    \"\"\"Calculates speficic humidity between 0 and 1\n",
    "\n",
    "    https://de.wikipedia.org/wiki/Luftfeuchtigkeit#Spezifische_Luftfeuchtigkeit\n",
    "    https://schweizer-fn.de/lueftung/feuchte/feuchte.php#spezfeuchte\n",
    "\n",
    "    Parameters\n",
    "    ------\n",
    "    temp: float \n",
    "        temperature in °C\n",
    "    \n",
    "    humidity_rel: float\n",
    "        relative humidity between 0 and 1\n",
    "    \n",
    "    pressure_air: float\n",
    "        air pressure in Pa\n",
    "\n",
    "    Returns\n",
    "    ------\n",
    "    float\n",
    "        specific humidity between 0 and 1\n",
    "    \"\"\"\n",
    "    \n",
    "    ppressure_water = calc_ppartial(humidity_rel, temp)\n",
    "    rho_water = ppressure_water / (constants.gas_constant_spec[\"water\"]*temp)\n",
    "    rho_air_dry = (pressure_air - ppressure_water) / (constants.gas_constant_spec[\"air_dry\"]*temp)\n",
    "    return rho_water / (rho_air_dry + rho_water)\n",
    "\n",
    "def calc_hum_abs(humidity_rel: float, temp: float, pressure_air: float) -> float:\n",
    "    \"\"\"Calculates humidity as kg_water / kg_air_dry\n",
    "    https://de.wikipedia.org/wiki/Luftfeuchtigkeit#Spezifische_Luftfeuchtigkeit\n",
    "\n",
    "    Parameters\n",
    "    ------\n",
    "    temp: float \n",
    "        temperature in °C\n",
    "    \n",
    "    humidity_rel: float\n",
    "        relative humidity between 0 and 1\n",
    "    \n",
    "    pressure_air: float\n",
    "        air pressure in Pa\n",
    "\n",
    "    Returns\n",
    "    -----\n",
    "    float\n",
    "        humidity as kg_water / kg_air_dry\n",
    "    \"\"\"\n",
    "    ppartial_water = calc_ppartial(humidity_rel, temp)\n",
    "\n",
    "    return 0.622 * ppartial_water / (pressure_air - ppartial_water)\n",
    "\n",
    "def calc_humidex(temp: float, humidity_rel: float) -> float:\n",
    "    \"\"\"Calculates the humidex\n",
    "\n",
    "    Source and possible test: https://en.wikipedia.org/wiki/Humidex\n",
    "    Currently visually tested for dew point on x axis, not yet tested if dew point is calculated\n",
    "\n",
    "    Parameters\n",
    "    ----.\n",
    "     temp: float \n",
    "        temperature in °C\n",
    "    \n",
    "    humidity_rel: float\n",
    "        relative humidity between 0 and 1\n",
    "\n",
    "    Returns\n",
    "    ----\n",
    "    float\n",
    "        perceived temperature in °C\n",
    "    \"\"\"\n",
    "    t_dew = calc_dewpoint(humidity_rel, temp)\n",
    "    return temp + 0.5555 * (6.11*np.exp(5417.753 * (1/273.16 - 1/(273.15+t_dew))) - 10)\n",
    "\n",
    "def calc_heat_evap(temp):\n",
    "    \"\"\"Calculates latent heat of evaporation for water in kg/kg\n",
    "    https://de.wikipedia.org/wiki/Verdampfungsenthalpie\n",
    "\n",
    "    Parameters\n",
    "    ----.\n",
    "     temp: float \n",
    "        temperature in °C\n",
    "\n",
    "    Returns\n",
    "    ----\n",
    "    float\n",
    "        latent heat of evaporation at given temperature in kj/kg\n",
    "    \"\"\"\n",
    "    T = temp + 273.15\n",
    "    return (50.09 - 0.9298 * T/1000 - 65.19 * (T/1000)**2) / 1800\n",
    "    \n",
    "\n",
    "    "
   ]
  },
  {
   "attachments": {},
   "cell_type": "markdown",
   "metadata": {},
   "source": [
    "Water mass can be calculated via\n",
    "\n",
    "$$ ppartial_{water} = \\varphi \\, p_{sat} $$\n",
    "\n",
    "$$ m_{water} = \\frac{ppartial_{water}}{R_W \\, T} $$\n",
    "\n",
    "Partial pressure of water can be calculated accordingly as:\n",
    "\n",
    "$$ ppartial_{water}  = \\frac{m_{water}}{V_{total}} * R_W \\, T $$\n",
    "\n",
    "$$ V_{total} = V_{water} + V_{air} $$\n",
    "\n",
    "$V_{water}$ is probably dependent on the temperature? For now I do ignore such possible dependencies."
   ]
  },
  {
   "cell_type": "code",
   "execution_count": 31,
   "metadata": {},
   "outputs": [
    {
     "data": {
      "text/plain": [
       "21.213289995023338"
      ]
     },
     "execution_count": 31,
     "metadata": {},
     "output_type": "execute_result"
    }
   ],
   "source": [
    "calc_ppartial(0.5, 30) / 1e5 * 1000  # mbar"
   ]
  },
  {
   "cell_type": "code",
   "execution_count": 41,
   "metadata": {},
   "outputs": [],
   "source": [
    "pressure = 1e5  # Pa\n",
    "phi = 0.5\n",
    "temp = 28\n",
    "lenght = 4  # m\n",
    "depth = 5  # m\n",
    "height = 3  # m\n",
    "\n",
    "volume_total = lenght * depth * height\n",
    "ppartial_water = calc_ppartial(phi, temp)\n",
    "rho_air = (pressure - ppartial_water) / (constants.gas_constant_spec[\"air_dry\"]*(temp+273.15))\n",
    "rho_water = ppartial_water / constants.gas_constant_spec[\"water\"]\n",
    "mu = calc_hum_abs(phi, temp, pressure)\n",
    "m_air = volume_total  / (1/rho_air + mu/rho_water)  # kg\n",
    "m_water = mu * m_air # kg"
   ]
  },
  {
   "cell_type": "code",
   "execution_count": 43,
   "metadata": {},
   "outputs": [
    {
     "data": {
      "text/plain": [
       "0.8128827355659307"
      ]
     },
     "execution_count": 43,
     "metadata": {},
     "output_type": "execute_result"
    }
   ],
   "source": [
    "m_water"
   ]
  },
  {
   "cell_type": "code",
   "execution_count": 44,
   "metadata": {},
   "outputs": [
    {
     "data": {
      "text/plain": [
       "68.68256197567216"
      ]
     },
     "execution_count": 44,
     "metadata": {},
     "output_type": "execute_result"
    }
   ],
   "source": [
    "m_water + m_air"
   ]
  },
  {
   "cell_type": "code",
   "execution_count": 46,
   "metadata": {},
   "outputs": [
    {
     "data": {
      "text/plain": [
       "0.023842202976512867"
      ]
     },
     "execution_count": 46,
     "metadata": {},
     "output_type": "execute_result"
    }
   ],
   "source": [
    "calc_sathumidity(temp, pressure)"
   ]
  },
  {
   "cell_type": "code",
   "execution_count": 49,
   "metadata": {},
   "outputs": [
    {
     "data": {
      "text/plain": [
       "0.49640372550776485"
      ]
     },
     "execution_count": 49,
     "metadata": {},
     "output_type": "execute_result"
    }
   ],
   "source": [
    "# test if calculations are correct, should be equal to the assumed relative humidity (phi)\n",
    "m_water / (calc_sathumidity(temp, pressure) * (m_water + m_air))"
   ]
  },
  {
   "cell_type": "code",
   "execution_count": 50,
   "metadata": {},
   "outputs": [
    {
     "data": {
      "text/plain": [
       "33.01507578513029"
      ]
     },
     "execution_count": 50,
     "metadata": {},
     "output_type": "execute_result"
    }
   ],
   "source": [
    "calc_humidex(temp, phi)"
   ]
  },
  {
   "cell_type": "code",
   "execution_count": 64,
   "metadata": {},
   "outputs": [
    {
     "data": {
      "text/plain": [
       "27.929506761735695"
      ]
     },
     "execution_count": 64,
     "metadata": {},
     "output_type": "execute_result"
    }
   ],
   "source": [
    "# calculate new humidex after water was added\n",
    "m_towel_dry = 1  # kg\n",
    "factor_wet_dry = 3  # assumed factor describing m_towel_wet / m_towel_dry\n",
    "m_water_evap = m_towel_dry * factor_wet_dry\n",
    "m_water_new = m_water + m_water_evap\n",
    "\n",
    "\n",
    "h_evap = calc_heat_evap(temp)  # kJ/kg\n",
    "\n",
    "# TODO: cps are temperature dependent\n",
    "cp_water = 4.2  # kJ/(kg*K)\n",
    "cp_air_dry = 1  # kJ / (kg*K)\n",
    "\n",
    "cp_air_wet = m_water / (m_water + m_air) * cp_water + m_air / (m_water + m_air) * cp_air_dry\n",
    "# calculate new temperature\n",
    "\n",
    "temp_new = temp - h_evap*m_water_evap / cp_air_wet\n",
    "temp_new"
   ]
  },
  {
   "cell_type": "code",
   "execution_count": 78,
   "metadata": {},
   "outputs": [
    {
     "data": {
      "text/plain": [
       "71.39569183593899"
      ]
     },
     "execution_count": 78,
     "metadata": {},
     "output_type": "execute_result"
    }
   ],
   "source": [
    "# new humidex\n",
    "hum_abs = m_water_new / (m_water_new + m_air)\n",
    "phi_new =  hum_abs / calc_sathumidity(temp_new, pressure)\n",
    "calc_humidex(temp_new, phi_new)"
   ]
  },
  {
   "cell_type": "code",
   "execution_count": 69,
   "metadata": {},
   "outputs": [
    {
     "data": {
      "text/plain": [
       "27.929506761735695"
      ]
     },
     "execution_count": 69,
     "metadata": {},
     "output_type": "execute_result"
    }
   ],
   "source": [
    "temp_new"
   ]
  },
  {
   "cell_type": "code",
   "execution_count": 70,
   "metadata": {},
   "outputs": [
    {
     "data": {
      "text/plain": [
       "1.7019491400594409"
      ]
     },
     "execution_count": 70,
     "metadata": {},
     "output_type": "execute_result"
    }
   ],
   "source": [
    "phi_new"
   ]
  },
  {
   "cell_type": "code",
   "execution_count": 71,
   "metadata": {},
   "outputs": [
    {
     "data": {
      "text/plain": [
       "0.023742861487526818"
      ]
     },
     "execution_count": 71,
     "metadata": {},
     "output_type": "execute_result"
    }
   ],
   "source": [
    "calc_sathumidity(temp_new, pressure)"
   ]
  },
  {
   "cell_type": "code",
   "execution_count": 76,
   "metadata": {},
   "outputs": [
    {
     "data": {
      "text/plain": [
       "0.05319121736831837"
      ]
     },
     "execution_count": 76,
     "metadata": {},
     "output_type": "execute_result"
    }
   ],
   "source": [
    "hum_abs"
   ]
  },
  {
   "cell_type": "code",
   "execution_count": 77,
   "metadata": {},
   "outputs": [
    {
     "data": {
      "text/plain": [
       "0.023742861487526818"
      ]
     },
     "execution_count": 77,
     "metadata": {},
     "output_type": "execute_result"
    }
   ],
   "source": [
    "calc_sathumidity(temp_new, pressure)"
   ]
  },
  {
   "cell_type": "code",
   "execution_count": 80,
   "metadata": {},
   "outputs": [
    {
     "data": {
      "text/plain": [
       "0.05319121736831837"
      ]
     },
     "execution_count": 80,
     "metadata": {},
     "output_type": "execute_result"
    }
   ],
   "source": [
    "hum_abs"
   ]
  },
  {
   "cell_type": "code",
   "execution_count": 81,
   "metadata": {},
   "outputs": [
    {
     "data": {
      "text/plain": [
       "0.023742861487526818"
      ]
     },
     "execution_count": 81,
     "metadata": {},
     "output_type": "execute_result"
    }
   ],
   "source": [
    "calc_sathumidity(temp_new, pressure)"
   ]
  },
  {
   "cell_type": "code",
   "execution_count": 82,
   "metadata": {},
   "outputs": [
    {
     "data": {
      "text/plain": [
       "0.011835358381853307"
      ]
     },
     "execution_count": 82,
     "metadata": {},
     "output_type": "execute_result"
    }
   ],
   "source": [
    "m_water / (m_water + m_air)"
   ]
  }
 ],
 "metadata": {
  "kernelspec": {
   "display_name": "calc",
   "language": "python",
   "name": "python3"
  },
  "language_info": {
   "codemirror_mode": {
    "name": "ipython",
    "version": 3
   },
   "file_extension": ".py",
   "mimetype": "text/x-python",
   "name": "python",
   "nbconvert_exporter": "python",
   "pygments_lexer": "ipython3",
   "version": "3.10.8"
  },
  "orig_nbformat": 4
 },
 "nbformat": 4,
 "nbformat_minor": 2
}
