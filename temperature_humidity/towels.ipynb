{
 "cells": [
  {
   "cell_type": "code",
   "execution_count": 3,
   "metadata": {},
   "outputs": [],
   "source": [
    "import numpy as np\n",
    "import math"
   ]
  },
  {
   "attachments": {},
   "cell_type": "markdown",
   "metadata": {},
   "source": [
    "\n",
    "The [heatindex](https://de.wikipedia.org/wiki/Hitzeindex) describes the quantitative relationship between perceived temperature and humidity. According to wikipedia, it is applicable for temperatures above 26.7°C and 40 % relative humidity.\n",
    "\n",
    "$$ \\vartheta _{\\mathrm {HI} }=c_{1}+c_{2}\\vartheta +c_{3}\\varphi +c_{4}\\vartheta \\varphi +c_{5}\\vartheta ^{2}+c_{6}\\varphi ^{2}+c_{7}\\vartheta ^{2}\\varphi +c_{8}\\vartheta \\varphi ^{2}+c_{9}\\vartheta ^{2}\\varphi ^{2}$$\n",
    "\n",
    "|Parameter |\tϑ in °C |\tϑ in °F |\n",
    "|----------|------------|-----------|\n",
    "c1 | \t−8,784695 |\t−42,379 |\n",
    "c2 |\t1,61139411 |\t2,04901523 |\n",
    "c3 |\t2,338549 |\t10,1433127 |\n",
    "c4 |\t−0,14611605 |\t−0,22475541 |\n",
    "c5 |\t−1,2308094 · 10−2 |\t−6,83783 · 10−3 |\n",
    "c6 |\t−1,6424828 · 10−2 |\t−5,481717 · 10−2 |\n",
    "c7 |\t2,211732 · 10−3 |\t1,22874 · 10−3 |\n",
    "c8 |\t7,2546 · 10−4 |\t8,5282 · 10−4 |\n",
    "c9 |\t−3,582 · 10−6 |\t−1,99 · 10−6 |\n",
    "\n",
    "[Relative humidity](https://de.wikipedia.org/wiki/Luftfeuchtigkeit#Relative_Luftfeuchtigkeit) (German version of wikipedia is surprisingly better for this article) can be calculated based on the air pressure and the [saturation pressure of water in air](https://en.wikipedia.org/wiki/Vapour_pressure_of_water)"
   ]
  },
  {
   "attachments": {},
   "cell_type": "markdown",
   "metadata": {},
   "source": [
    "Another expression for perceived temperature is the [Humidex](https://en.wikipedia.org/wiki/Humidex) given by the formula:\n",
    "\n",
    "$$\n",
    "H = T_{air} + 0.5555 * (6.11^{5417.753 * (1/273.16 - 1/(273.15+T_{dew}))} - 10)\n",
    "$$\n",
    "\n",
    "H ... Humidex \\\n",
    "T$_{air}$ ... Temperature of the air \\\n",
    "T$_{dew}$ ... Dew point of the air"
   ]
  },
  {
   "attachments": {},
   "cell_type": "markdown",
   "metadata": {},
   "source": [
    "The dew point can be calculated based on the Magnus Formula using the relative humidity of the air. For example formula 10 in the german wiki article about the [dew point](https://de.wikipedia.org/wiki/Taupunkt). Valid between -10 and 60°C.\n",
    "\n",
    "$$\n",
    "\\tau(\\varphi, \\vartheta) = K_3 * \\frac{\\frac{K_2*\\vartheta}{K_3 + \\vartheta} + ln(\\varphi)}{\\frac{K_2*K_3}{K_3 + \\vartheta}}\n",
    "$$"
   ]
  },
  {
   "cell_type": "code",
   "execution_count": 29,
   "metadata": {},
   "outputs": [],
   "source": [
    "class constants:\n",
    "    gas_constant =  dict(water = 461.51,\n",
    "                         air_dry = 287.058)  #  (J/(kg*K)\n",
    "    \n",
    "\n",
    "def calc_dewpoint(humidity_rel: float, temp: float) -> float:\n",
    "    \"\"\"Calculates the dew point of water in air based on the magnus formula\n",
    "\n",
    "    Parameters\n",
    "    ------\n",
    "    humidity_rel: float\n",
    "        relative humidity between 0 and 1\n",
    "    temp: float\n",
    "        temperature in °C\n",
    "    \n",
    "    Returns\n",
    "    ------\n",
    "    float\n",
    "        dew point in °C\n",
    "    \"\"\"\n",
    "    k3 = 243.12 # °C\n",
    "    k2 = 17.62  # °C\n",
    "    return k3 * (k2*temp/(k3+temp) + np.log(humidity_rel)) / (k2*k3 / (k3 + temp))\n",
    "\n",
    "def calc_satpressure(temp: float) -> float:\n",
    "    \"\"\"Calcuates the saturation pressure of water in air based on the magnus formula\n",
    "    \n",
    "    https://www.eas.ualberta.ca/jdwilson/EAS372_13/Vomel_CIRES_satvpformulae.html\n",
    "\n",
    "    Parameters:\n",
    "    -----\n",
    "    temp: float\n",
    "        temperature in °C\n",
    "\n",
    "    Returns:\n",
    "    -----\n",
    "        saturation pressure of water in Pa\n",
    "    \"\"\"\n",
    "    k3 = 243.5 # °C\n",
    "    k2 = 17.67  # °C\n",
    "    return 610.78*np.exp(k2*temp / (k3 + temp))\n",
    "\n",
    "def calc_ppartial(humidity_rel:float, temp:float)->float:\n",
    "    \"\"\"Returns the partial pressure of water in Pa\n",
    "\n",
    "    https://schweizer-fn.de/lueftung/feuchte/feuchte.php\n",
    "\n",
    "    Parameters\n",
    "    -----\n",
    "    humidity_rel: float\n",
    "        relative humidity between 0 and 1\n",
    "    \n",
    "    temp: float\n",
    "        temperature in °C\n",
    "    \n",
    "    Returns\n",
    "    ------\n",
    "    float\n",
    "        partial pressure of water in Pa\n",
    "    \"\"\"\n",
    "    return humidity_rel * calc_satpressure(temp)\n",
    "\n",
    "\n",
    "def calc_hum_spec(humidity_rel: float, temp: float, pressure_air: float) -> float:\n",
    "    \"\"\"Calculates speficic humidity between 0 and 1\n",
    "\n",
    "    https://de.wikipedia.org/wiki/Luftfeuchtigkeit#Spezifische_Luftfeuchtigkeit\n",
    "    https://schweizer-fn.de/lueftung/feuchte/feuchte.php#spezfeuchte\n",
    "\n",
    "    Parameters\n",
    "    ------\n",
    "    temp: float \n",
    "        temperature in °C\n",
    "    \n",
    "    humidity_rel: float\n",
    "        relative humidity between 0 and 1\n",
    "    \n",
    "    pressure_air: float\n",
    "        air pressure in Pa\n",
    "\n",
    "    Returns\n",
    "    ------\n",
    "    float\n",
    "        specific humidity between 0 and 1\n",
    "    \"\"\"\n",
    "    \n",
    "    ppressure_water = calc_ppartial(humidity_rel, temp)\n",
    "    rho_water = ppressure_water / (constants.gas_constant[\"water\"]*temp)\n",
    "    rho_air_dry = (pressure_air - ppressure_water) / (constants.gas_constant[\"air_dry\"]*temp)\n",
    "    return rho_water / (rho_air_dry + rho_water)"
   ]
  },
  {
   "cell_type": "code",
   "execution_count": 28,
   "metadata": {},
   "outputs": [
    {
     "data": {
      "text/plain": [
       "dict_keys(['water', 'air_dry'])"
      ]
     },
     "execution_count": 28,
     "metadata": {},
     "output_type": "execute_result"
    }
   ],
   "source": [
    "constants.gas_constant.keys()"
   ]
  },
  {
   "attachments": {},
   "cell_type": "markdown",
   "metadata": {},
   "source": [
    "https://labor.bht-berlin.de/fileadmin/labor/tvt/Umdrucke/2014_Trocknung-Schlempe.pdf"
   ]
  },
  {
   "attachments": {},
   "cell_type": "markdown",
   "metadata": {},
   "source": []
  }
 ],
 "metadata": {
  "kernelspec": {
   "display_name": "calc",
   "language": "python",
   "name": "python3"
  },
  "language_info": {
   "codemirror_mode": {
    "name": "ipython",
    "version": 3
   },
   "file_extension": ".py",
   "mimetype": "text/x-python",
   "name": "python",
   "nbconvert_exporter": "python",
   "pygments_lexer": "ipython3",
   "version": "3.11.3"
  },
  "orig_nbformat": 4
 },
 "nbformat": 4,
 "nbformat_minor": 2
}
